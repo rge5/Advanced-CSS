{
  "nbformat": 4,
  "nbformat_minor": 0,
  "metadata": {
    "colab": {
      "provenance": []
    },
    "kernelspec": {
      "name": "python3",
      "display_name": "Python 3"
    },
    "language_info": {
      "name": "python"
    }
  },
  "cells": [
    {
      "cell_type": "code",
      "execution_count": null,
      "metadata": {
        "id": "PJF9ZiyH4-Z8"
      },
      "outputs": [],
      "source": [
        "1. Explain the purpose of using the var() function in css. Also you have created two buttons with id named\n",
        "primaryBtn and secondaryBtn which should be given background colors using the var() function. The color\n",
        "code for primaryColor is #00b7ff and secondaryColor is #6c757d."
      ]
    },
    {
      "cell_type": "code",
      "source": [
        "<!DOCTYPE html>\n",
        "<html lang=\"en\">\n",
        "<head>\n",
        "    <meta charset=\"UTF-8\">\n",
        "    <meta name=\"viewport\" content=\"width=device-width, initial-scale=1.0\">\n",
        "    <title>Document</title>\n",
        "</head>\n",
        "<style>\n",
        "    :root {\n",
        "  --primaryColor: #00b7ff;\n",
        "  --secondaryColor: #6c757d;\n",
        "}\n",
        "#primaryBtn{\n",
        "    background-color: var(--primaryColor);\n",
        "    border: none;\n",
        "    width: 150px;\n",
        "    height: 40px;\n",
        "    color: white;\n",
        "    padding: 10px 20px;\n",
        "}\n",
        "#secondaryBtn{\n",
        "    background-color: var(--secondaryColor);\n",
        "    border: none;\n",
        "    width: 150px;\n",
        "    height: 40px;\n",
        "    color: white;\n",
        "    padding: 10px 20px;\n",
        "}\n",
        "</style>\n",
        "<body>\n",
        "    <button id=\"primaryBtn\">Primary Button</button>\n",
        "<button id=\"secondaryBtn\">Secondary button</button>\n",
        "</body>\n",
        "</html>"
      ],
      "metadata": {
        "id": "7JHzp0ru5GZ-"
      },
      "execution_count": null,
      "outputs": []
    },
    {
      "cell_type": "markdown",
      "source": [
        "2.Create a 3D cube using the transform property of CSS."
      ],
      "metadata": {
        "id": "0cNAEX4w5JwS"
      }
    },
    {
      "cell_type": "code",
      "source": [
        "<!DOCTYPE html>\n",
        "<html lang=\"en\">\n",
        "  <head>\n",
        "    <meta charset=\"UTF-8\" />\n",
        "    <meta name=\"viewport\" content=\"width=device-width, initial-scale=1.0\" />\n",
        "    <title>Document</title>\n",
        "    <style>\n",
        "      .scene {\n",
        "        width: 200px;\n",
        "        height: 200px;\n",
        "        perspective: 800px;\n",
        "        margin: 100px auto;\n",
        "      }\n",
        "\n",
        "      .cube {\n",
        "        width: 100px;\n",
        "        height: 100px;\n",
        "        position: relative;\n",
        "        transform-style: preserve-3d;\n",
        "        transform: rotateX(-30deg) rotateY(45deg);\n",
        "        animation: spin 10s linear infinite;\n",
        "      }\n",
        "\n",
        "      .face {\n",
        "        position: absolute;\n",
        "        width: 200px;\n",
        "        height: 200px;\n",
        "        background-color: rgba(0, 183, 255, 0.8);\n",
        "        border: 2px solid #fff;\n",
        "        line-height: 200px;\n",
        "        color: white;\n",
        "        text-align: center;\n",
        "      }\n",
        "\n",
        "      .front {\n",
        "        transform: translateZ(100px);\n",
        "      }\n",
        "      .back {\n",
        "        transform: rotateY(180deg) translateZ(100px);\n",
        "      }\n",
        "      .right {\n",
        "        transform: rotate(90deg) translateZ(100px);\n",
        "      }\n",
        "      .left{\n",
        "        transform: rotateY(-90deg) translateZ(100px);\n",
        "      }\n",
        "      .top{\n",
        "        transform: rotateX(90deg) translateZ(100px);\n",
        "      }\n",
        "      .bottom{\n",
        "        transform: rotateX(180deg) translateZ(100px);\n",
        "      }\n",
        "\n",
        "\n",
        "      @keyframes spin {\n",
        "        from {\n",
        "          transform: rotateX(-30deg) rotateY(0);\n",
        "        }\n",
        "        to {\n",
        "          transform: rotateX(-30deg) rotateY(360deg);\n",
        "        }\n",
        "      }\n",
        "    </style>\n",
        "  </head>\n",
        "  <body>\n",
        "    <div class=\"scene\">\n",
        "      <div class=\"cube\">\n",
        "        <div class=\"face front\">front</div>\n",
        "        <div class=\"face back\">back</div>\n",
        "        <div class=\"face right\">right</div>\n",
        "        <div class=\"face left\">left</div>\n",
        "        <div class=\"face top\">top</div>\n",
        "        <div class=\"face bottom\">bottom</div>\n",
        "      </div>\n",
        "    </div>\n",
        "  </body>\n",
        "</html>\n"
      ],
      "metadata": {
        "id": "GhOkydIV5M6g"
      },
      "execution_count": null,
      "outputs": []
    },
    {
      "cell_type": "markdown",
      "source": [
        "3. Create a simple circular loader which will rotate continuously to look like a loading screen on a website."
      ],
      "metadata": {
        "id": "HjYQL7mm5Qrv"
      }
    },
    {
      "cell_type": "code",
      "source": [
        "<!DOCTYPE html>\n",
        "<html lang=\"en\">\n",
        "  <head>\n",
        "    <meta charset=\"UTF-8\" />\n",
        "    <meta name=\"viewport\" content=\"width=device-width, initial-scale=1.0\" />\n",
        "    <title>Document</title>\n",
        "    <style>\n",
        "      body {\n",
        "        display: flex;\n",
        "        justify-content: center;\n",
        "        align-items: center;\n",
        "        height: 100vh;\n",
        "        margin: 0;\n",
        "        background-color: #f0f0f0;\n",
        "      }\n",
        "      .loader {\n",
        "        width: 50px;\n",
        "        height: 50px;\n",
        "      }\n",
        "\n",
        "      #loader1 {\n",
        "        border: 8px solid #f3f3f3;\n",
        "        border-top: 8px solid #3498db;\n",
        "        border-radius: 50%;\n",
        "        animation: spin 2s linear infinite;\n",
        "      }\n",
        "\n",
        "      @keyframes spin {\n",
        "        0% {\n",
        "          transform: rotate(0deg);\n",
        "        }\n",
        "        100% {\n",
        "          transform: rotate(360deg);\n",
        "        }\n",
        "      }\n",
        "    </style>\n",
        "  </head>\n",
        "  <body>\n",
        "    <div class=\"loader\" id=\"loader1\"></div>\n",
        "  </body>\n",
        "</html>\n"
      ],
      "metadata": {
        "id": "90ACvO_n5UlQ"
      },
      "execution_count": null,
      "outputs": []
    },
    {
      "cell_type": "markdown",
      "source": [
        "4.You have to visit the PW Skills website (https://pwskills.com/) and have to hide the logo by using the developer\n",
        "tool. This should be done using the css and developer tool only, use of javascript is prohibited.\n"
      ],
      "metadata": {
        "id": "KrJNjhr05Xp9"
      }
    },
    {
      "cell_type": "code",
      "source": [
        ".logo{\n",
        "  display:none;\n",
        " }"
      ],
      "metadata": {
        "id": "gP1wHPom5kEx"
      },
      "execution_count": null,
      "outputs": []
    },
    {
      "cell_type": "markdown",
      "source": [
        "5.You have to visit the PW Skills website (https://pwskills.com/) and have to change the content of the ‘Login /\n",
        "Register’ button to ‘Connect with us’ using the developer tool. This should be done using the elements of\n",
        "developer tools only, use of javascript is prohibited.\n",
        "\n"
      ],
      "metadata": {
        "id": "lzPf4D8c5k8D"
      }
    },
    {
      "cell_type": "code",
      "source": [
        "<button>Connect with Us</button>"
      ],
      "metadata": {
        "id": "fE0BsXNw7B16"
      },
      "execution_count": null,
      "outputs": []
    }
  ]
}